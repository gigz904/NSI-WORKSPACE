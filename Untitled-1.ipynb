{
 "cells": [
  {
   "cell_type": "code",
   "execution_count": null,
   "metadata": {},
   "outputs": [],
   "source": [
    "\n",
    "class Escargot:\n",
    "    def __init__ (self, c):\n",
    "        self.couleur = c\n",
    "        self.position = 0\n",
    "        self.vitesse = 1\n",
    "\n",
    "bob = Escargot('red')\n",
    "henry = Escargot('blue')\n",
    "\n",
    "bob.vitesse = 20\n",
    "henry.vitesse = 10\n",
    "\n",
    "print(bob)"
   ]
  }
 ],
 "metadata": {
  "kernelspec": {
   "display_name": "Python 3",
   "language": "python",
   "name": "python3"
  },
  "language_info": {
   "name": "python",
   "version": "3.11.1"
  },
  "orig_nbformat": 4,
  "vscode": {
   "interpreter": {
    "hash": "5238573367df39f7286bb46f9ff5f08f63a01a80960060ce41e3c79b190280fa"
   }
  }
 },
 "nbformat": 4,
 "nbformat_minor": 2
}
